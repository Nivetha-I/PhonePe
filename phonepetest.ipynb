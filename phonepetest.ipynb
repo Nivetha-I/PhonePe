{
 "cells": [
  {
   "cell_type": "code",
   "execution_count": 6,
   "metadata": {},
   "outputs": [],
   "source": [
    "import os\n",
    "import json"
   ]
  },
  {
   "cell_type": "code",
   "execution_count": 11,
   "metadata": {},
   "outputs": [],
   "source": [
    "#Aggregate Transactions\n",
    "\n",
    "path1 = \"C:/Users/admin/Desktop/PhonePe_project/PhonePe/pulse/data/aggregated/transaction/country/india/state/\"\n",
    "aggre_trans_list = os.listdir(path1)\n",
    "\n",
    "#creating a dictionary for the columns to be named\n",
    "\n",
    "column1 = {\"States\":[], \"Year\":[], \"Quarter\":[], \"Trasaction_type\":[], \"Transaction_count\":[], \"Transaction_amount\":[]}\n",
    "#Creating for loop to access the location of folders inside the above path\n",
    "for i in aggre_trans_list:\n",
    "    current_state = path1+i+\"/\"\n",
    "    aggre_year_list = os.listdir(current_state)\n",
    "    #creating for loop to access the year inside the state folder\n",
    "    for j in aggre_year_list:\n",
    "        current_year = current_state+j+\"/\" \n",
    "        aggre_file_list = os.listdir(current_year)\n",
    "\n",
    "        for k in aggre_file_list:\n",
    "            current_file = current_year+k\n",
    "            data = open(current_file,\"r\")\n",
    "\n",
    "            read = json.load(data)\n",
    "            \n"
   ]
  },
  {
   "cell_type": "code",
   "execution_count": 10,
   "metadata": {},
   "outputs": [
    {
     "name": "stdout",
     "output_type": "stream",
     "text": [
      "{'name': 'Merchant payments', 'paymentInstruments': [{'type': 'TOTAL', 'count': 296965002, 'amount': 200440391406.0}]}\n",
      "{'name': 'Peer-to-peer payments', 'paymentInstruments': [{'type': 'TOTAL', 'count': 271150280, 'amount': 831050092805.0}]}\n",
      "{'name': 'Recharge & bill payments', 'paymentInstruments': [{'type': 'TOTAL', 'count': 63055684, 'amount': 39209851435.0}]}\n",
      "{'name': 'Financial Services', 'paymentInstruments': [{'type': 'TOTAL', 'count': 389751, 'amount': 424985591.0}]}\n",
      "{'name': 'Others', 'paymentInstruments': [{'type': 'TOTAL', 'count': 532474, 'amount': 423285145.0}]}\n"
     ]
    }
   ],
   "source": [
    "for i in read[\"data\"][\"transactionData\"]:\n",
    "       name = i[\"name\"]\n",
    "       count = i[\"paymentInstruments\"][0][\"count\"] \n",
    "       amount=i[\"paymentInstruments\"][0][\"amount\"]"
   ]
  },
  {
   "cell_type": "code",
   "execution_count": 8,
   "metadata": {},
   "outputs": [
    {
     "data": {
      "text/plain": [
       "{'success': True,\n",
       " 'code': 'SUCCESS',\n",
       " 'data': {'from': 1688149800000,\n",
       "  'to': 1695839400000,\n",
       "  'transactionData': [{'name': 'Merchant payments',\n",
       "    'paymentInstruments': [{'type': 'TOTAL',\n",
       "      'count': 296965002,\n",
       "      'amount': 200440391406.0}]},\n",
       "   {'name': 'Peer-to-peer payments',\n",
       "    'paymentInstruments': [{'type': 'TOTAL',\n",
       "      'count': 271150280,\n",
       "      'amount': 831050092805.0}]},\n",
       "   {'name': 'Recharge & bill payments',\n",
       "    'paymentInstruments': [{'type': 'TOTAL',\n",
       "      'count': 63055684,\n",
       "      'amount': 39209851435.0}]},\n",
       "   {'name': 'Financial Services',\n",
       "    'paymentInstruments': [{'type': 'TOTAL',\n",
       "      'count': 389751,\n",
       "      'amount': 424985591.0}]},\n",
       "   {'name': 'Others',\n",
       "    'paymentInstruments': [{'type': 'TOTAL',\n",
       "      'count': 532474,\n",
       "      'amount': 423285145.0}]}]},\n",
       " 'responseTimestamp': 1697612072950}"
      ]
     },
     "execution_count": 8,
     "metadata": {},
     "output_type": "execute_result"
    }
   ],
   "source": [
    "read"
   ]
  }
 ],
 "metadata": {
  "kernelspec": {
   "display_name": ".venv",
   "language": "python",
   "name": "python3"
  },
  "language_info": {
   "codemirror_mode": {
    "name": "ipython",
    "version": 3
   },
   "file_extension": ".py",
   "mimetype": "text/x-python",
   "name": "python",
   "nbconvert_exporter": "python",
   "pygments_lexer": "ipython3",
   "version": "3.12.0"
  }
 },
 "nbformat": 4,
 "nbformat_minor": 2
}
